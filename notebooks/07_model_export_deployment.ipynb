{
 "cells": [
  {
   "cell_type": "code",
   "execution_count": 1,
   "id": "b79db90e-7ed8-4681-862c-2bdd172f75cd",
   "metadata": {},
   "outputs": [],
   "source": [
    "import pandas as pd\n",
    "import joblib\n",
    "import os\n"
   ]
  },
  {
   "cell_type": "code",
   "execution_count": 2,
   "id": "f8351ea6-5fcd-49e2-b64f-e0d48919b31a",
   "metadata": {},
   "outputs": [],
   "source": [
    "df = pd.read_csv(\"../data/heart_disease_selected.csv\")\n",
    "\n",
    "X = df.drop(\"target\", axis=1)\n",
    "y = df[\"target\"]\n"
   ]
  },
  {
   "cell_type": "code",
   "execution_count": 5,
   "id": "523c6c30-d74b-4c18-9d75-07b6170baf78",
   "metadata": {},
   "outputs": [],
   "source": [
    "os.makedirs(\"../models\", exist_ok=True)\n"
   ]
  },
  {
   "cell_type": "code",
   "execution_count": 7,
   "id": "b61a88a5-2c1f-4d08-a084-2c33037143e8",
   "metadata": {},
   "outputs": [],
   "source": [
    "best_rf = joblib.load(\"../models/best_random_forest.pkl\")\n",
    "best_svm = joblib.load(\"../models/best_svm.pkl\")\n"
   ]
  },
  {
   "cell_type": "code",
   "execution_count": 8,
   "id": "8436e57c-c509-4570-8e60-e95e620f1f68",
   "metadata": {},
   "outputs": [
    {
     "name": "stdout",
     "output_type": "stream",
     "text": [
      "Optimized models exported successfully!\n"
     ]
    }
   ],
   "source": [
    "joblib.dump(best_rf, \"../models/best_random_forest.pkl\")\n",
    "joblib.dump(best_svm, \"../models/best_svm.pkl\")\n",
    "\n",
    "print(\"Optimized models exported successfully!\")\n"
   ]
  },
  {
   "cell_type": "code",
   "execution_count": null,
   "id": "a0dfeb18-f6c6-47fa-a8fe-60302733bae5",
   "metadata": {},
   "outputs": [],
   "source": []
  }
 ],
 "metadata": {
  "kernelspec": {
   "display_name": "Python [conda env:base] *",
   "language": "python",
   "name": "conda-base-py"
  },
  "language_info": {
   "codemirror_mode": {
    "name": "ipython",
    "version": 3
   },
   "file_extension": ".py",
   "mimetype": "text/x-python",
   "name": "python",
   "nbconvert_exporter": "python",
   "pygments_lexer": "ipython3",
   "version": "3.13.5"
  }
 },
 "nbformat": 4,
 "nbformat_minor": 5
}
